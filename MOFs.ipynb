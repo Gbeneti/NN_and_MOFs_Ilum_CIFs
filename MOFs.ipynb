{
 "cells": [
  {
   "cell_type": "markdown",
   "id": "f8a236ba-ae95-4bd0-8864-ae3f6b9bb319",
   "metadata": {},
   "source": [
    "## Importações\n",
    "\n"
   ]
  },
  {
   "cell_type": "code",
   "execution_count": 1,
   "id": "04af1a58-a76a-4760-b3c3-a5e396ca63d9",
   "metadata": {},
   "outputs": [],
   "source": [
    "import torch\n",
    "import torch.nn as nn\n",
    "import torch.optim as optim\n",
    "\n",
    "import seaborn as sns\n",
    "\n",
    "from sklearn.model_selection import train_test_split\n",
    "from sklearn.preprocessing import MinMaxScaler\n",
    "from sklearn.metrics import mean_squared_error\n",
    "\n",
    "import numpy as np\n",
    "import pandas as pd\n",
    "import random\n",
    "\n",
    "from funcoes import *\n",
    "from funcoes import selecao_torneio_min as funcao_selecao\n",
    "from funcoes import cruzamento_ponto_simples as funcao_cruzamento"
   ]
  },
  {
   "cell_type": "code",
   "execution_count": 2,
   "id": "c3fd484a-ed94-406a-b774-51eb0e47cf06",
   "metadata": {},
   "outputs": [],
   "source": [
    "from mofdb_client import fetch\n",
    "# Fetch all mofs with void fraction >= 0.5 and <= 0.99\n",
    "# Convert all isotherm loading units to mmol/g and all pressures to atmospheres\n",
    "\n",
    "# Create a DataFrame\n",
    "df = pd.DataFrame()\n",
    "\n",
    "TAMANHO_DATAFRAME = 5000\n",
    "\n",
    "t = 0\n",
    "for mof in fetch(vf_min=0, vf_max=1, loading_unit=\"mmol/g\", pressure_unit=\"atm\"):\n",
    "    new_row = {'mof': mof.name, 'cif': mof.cif, 'void fraction': mof.void_fraction}\n",
    "    # Append the new row to the DataFrame\n",
    "    df = df.append(new_row, ignore_index=True)\n",
    "    t += 1\n",
    "    if t >= TAMANHO_DATAFRAME:\n",
    "        break"
   ]
  },
  {
   "cell_type": "markdown",
   "id": "9153f85a-28c4-463f-ad0d-685024b4d95a",
   "metadata": {},
   "source": [
    "## Tratamento de dados"
   ]
  },
  {
   "cell_type": "code",
   "execution_count": 3,
   "id": "03bea3a1-e621-43ec-8b62-ec86b8218abd",
   "metadata": {},
   "outputs": [
    {
     "name": "stderr",
     "output_type": "stream",
     "text": [
      "c:\\venv\\ilumpy\\lib\\site-packages\\pymatgen\\io\\cif.py:1134: UserWarning: Issues encountered while parsing CIF: Some fractional coordinates rounded to ideal values to avoid issues with finite precision.\n",
      "  warnings.warn(\"Issues encountered while parsing CIF: \" + \"\\n\".join(self.warnings))\n"
     ]
    },
    {
     "data": {
      "application/vnd.jupyter.widget-view+json": {
       "model_id": "9d6b0a69a4024f6885243cf1a453f181",
       "version_major": 2,
       "version_minor": 0
      },
      "text/plain": [
       "GlobalSymmetryFeatures:   0%|          | 0/5000 [00:00<?, ?it/s]"
      ]
     },
     "metadata": {},
     "output_type": "display_data"
    },
    {
     "data": {
      "application/vnd.jupyter.widget-view+json": {
       "model_id": "b3331b1f9c144f89bbbdb04a7a3acf79",
       "version_major": 2,
       "version_minor": 0
      },
      "text/plain": [
       "ElementProperty:   0%|          | 0/5000 [00:00<?, ?it/s]"
      ]
     },
     "metadata": {},
     "output_type": "display_data"
    }
   ],
   "source": [
    "df = extrair_cif(df, minimo = 5)"
   ]
  },
  {
   "cell_type": "code",
   "execution_count": 4,
   "id": "fe287235-5a60-4947-92c9-999761048db8",
   "metadata": {},
   "outputs": [
    {
     "data": {
      "text/plain": [
       "Index(['mof', 'void fraction', 'spacegroup_num', 'crystal_system_int',\n",
       "       'n_symmetry_ops', 'Zn', 'H', 'C', 'O', 'F', 'Cl', 'Br', 'N'],\n",
       "      dtype='object')"
      ]
     },
     "execution_count": 4,
     "metadata": {},
     "output_type": "execute_result"
    }
   ],
   "source": [
    "df.keys()"
   ]
  },
  {
   "cell_type": "markdown",
   "id": "0fe3d7cd-c856-4d0b-a8a0-481873f26bdd",
   "metadata": {},
   "source": [
    "## Rede Neural\n",
    "\n"
   ]
  },
  {
   "cell_type": "markdown",
   "id": "d3a8aa40-83ee-4d2a-9db4-e2eb189bc854",
   "metadata": {},
   "source": [
    "### Divisão treino-teste"
   ]
  },
  {
   "cell_type": "code",
   "execution_count": 5,
   "id": "993626e9-4c19-404b-ab56-0b22654a6b36",
   "metadata": {
    "tags": []
   },
   "outputs": [],
   "source": [
    "TAMANHO_TESTE = 0.1\n",
    "SEMENTE_ALEATORIA = 61455\n",
    "FEATURES = list(df.iloc[:,2:].keys())\n",
    "\n",
    "TARGET = ['void fraction'] # porosidade do mof\n",
    "\n",
    "indices = df.index\n",
    "indices_treino, indices_teste = train_test_split(\n",
    "    indices, test_size=TAMANHO_TESTE, random_state=SEMENTE_ALEATORIA\n",
    ")\n",
    "\n",
    "df_treino = df.loc[indices_treino]\n",
    "df_teste = df.loc[indices_teste]\n",
    "\n",
    "X_treino = df_treino.reindex(FEATURES, axis=1)\n",
    "y_treino = df_treino.reindex(TARGET, axis=1)\n",
    "X_teste = df_teste.reindex(FEATURES, axis=1)\n",
    "y_teste = df_teste.reindex(TARGET, axis=1)"
   ]
  },
  {
   "cell_type": "code",
   "execution_count": 6,
   "id": "080e3cfb-860f-455e-8fe4-44b55c3d4c87",
   "metadata": {},
   "outputs": [],
   "source": [
    "normalizador_x = MinMaxScaler()\n",
    "normalizador_y = MinMaxScaler()\n",
    "\n",
    "normalizador_x.fit(X_treino)\n",
    "normalizador_y.fit(y_treino)\n",
    "\n",
    "X_treino = normalizador_x.transform(X_treino)\n",
    "y_treino = normalizador_y.transform(y_treino)\n",
    "X_teste = normalizador_x.transform(X_teste)\n",
    "y_teste = normalizador_y.transform(y_teste)"
   ]
  },
  {
   "cell_type": "code",
   "execution_count": 7,
   "id": "02178414-f035-400e-a268-070f3db3f328",
   "metadata": {},
   "outputs": [],
   "source": [
    "X_treino = torch.tensor(X_treino, dtype=torch.float32)\n",
    "y_treino = torch.tensor(y_treino, dtype=torch.float32)\n",
    "X_teste = torch.tensor(X_teste, dtype=torch.float32)\n",
    "y_teste = torch.tensor(y_teste, dtype=torch.float32)"
   ]
  },
  {
   "cell_type": "code",
   "execution_count": 8,
   "id": "96e2025f-2256-4e9d-9197-51b73406e86d",
   "metadata": {},
   "outputs": [],
   "source": [
    "class MLP(nn.Module):\n",
    "    def __init__(\n",
    "        self, num_dados_entrada, neuronios_c1, neuronios_c2, neuronios_c3, neuronios_c4, num_targets\n",
    "    ):\n",
    "        # Temos que inicializar a classe mãe\n",
    "        super().__init__()\n",
    "\n",
    "        # Definindo as camadas da rede\n",
    "        self.camadas = nn.Sequential(\n",
    "                    nn.Linear(num_dados_entrada, neuronios_c1),\n",
    "                    nn.ReLU(),\n",
    "                    nn.Linear(neuronios_c1, neuronios_c2),\n",
    "                    nn.ReLU(),\n",
    "                    nn.Linear(neuronios_c2, neuronios_c3),\n",
    "                    nn.ReLU(),\n",
    "                    nn.Linear(neuronios_c3, neuronios_c4),\n",
    "                    nn.ReLU(),\n",
    "                    nn.Linear(neuronios_c4, num_targets),\n",
    "                )\n",
    "\n",
    "    def forward(self, x):\n",
    "        \"\"\"Esse é o método que executa a rede do pytorch.\"\"\"\n",
    "        x = self.camadas(x)\n",
    "        return x"
   ]
  },
  {
   "cell_type": "code",
   "execution_count": 9,
   "id": "b3d48aa1-05bd-4995-86b9-4ecc5932b9d4",
   "metadata": {},
   "outputs": [],
   "source": [
    "NUM_DADOS_DE_ENTRADA = X_treino.shape[1]\n",
    "NUM_DADOS_DE_SAIDA = y_treino.shape[1]\n",
    "NEURONIOS_C1 = 350\n",
    "NEURONIOS_C2 = 200\n",
    "NEURONIOS_C3 = 180\n",
    "NEURONIOS_C4 = 150\n",
    "\n",
    "minha_MLP = MLP(NUM_DADOS_DE_ENTRADA, NEURONIOS_C1, NEURONIOS_C2, NEURONIOS_C3, NEURONIOS_C4, NUM_DADOS_DE_SAIDA)"
   ]
  },
  {
   "cell_type": "code",
   "execution_count": 10,
   "id": "8d5de109-5c7d-410a-b7e3-af55e484becf",
   "metadata": {},
   "outputs": [],
   "source": [
    "y_prev = minha_MLP(X_treino)"
   ]
  },
  {
   "cell_type": "code",
   "execution_count": 11,
   "id": "d4082e80-fd12-454f-b80c-9eca5180acd1",
   "metadata": {},
   "outputs": [],
   "source": [
    "TAXA_DE_APRENDIZADO = 0.0001\n",
    "\n",
    "# função perda será o erro quadrático médio\n",
    "fn_perda = nn.MSELoss()\n",
    "\n",
    "# otimizador será o Adam, um tipo de descida do gradiente\n",
    "otimizador = optim.Adam(minha_MLP.parameters(), lr=TAXA_DE_APRENDIZADO)"
   ]
  },
  {
   "cell_type": "code",
   "execution_count": 12,
   "id": "f678b9db-2c11-448d-8f8b-3a8d022da84f",
   "metadata": {},
   "outputs": [
    {
     "data": {
      "text/plain": [
       "MLP(\n",
       "  (camadas): Sequential(\n",
       "    (0): Linear(in_features=11, out_features=350, bias=True)\n",
       "    (1): ReLU()\n",
       "    (2): Linear(in_features=350, out_features=200, bias=True)\n",
       "    (3): ReLU()\n",
       "    (4): Linear(in_features=200, out_features=180, bias=True)\n",
       "    (5): ReLU()\n",
       "    (6): Linear(in_features=180, out_features=150, bias=True)\n",
       "    (7): ReLU()\n",
       "    (8): Linear(in_features=150, out_features=1, bias=True)\n",
       "  )\n",
       ")"
      ]
     },
     "execution_count": 12,
     "metadata": {},
     "output_type": "execute_result"
    }
   ],
   "source": [
    "minha_MLP.train()"
   ]
  },
  {
   "cell_type": "code",
   "execution_count": 13,
   "id": "1cffc432-34d0-49f3-a086-1e097e62827b",
   "metadata": {
    "tags": []
   },
   "outputs": [],
   "source": [
    "NUM_EPOCAS = 500\n",
    "\n",
    "y_true = y_treino\n",
    "\n",
    "epocas = []\n",
    "\n",
    "loss_functions = []\n",
    "\n",
    "for epoca in range(NUM_EPOCAS):\n",
    "    # forward pass\n",
    "    y_pred = minha_MLP(X_treino)\n",
    "\n",
    "    # zero grad\n",
    "    otimizador.zero_grad()\n",
    "\n",
    "    # loss\n",
    "    loss = fn_perda(y_pred, y_true)\n",
    "\n",
    "    # backpropagation\n",
    "    loss.backward()\n",
    "\n",
    "    # atualiza parâmetros\n",
    "    otimizador.step()\n",
    "\n",
    "    # salva os resultados\n",
    "    #print(epoca, loss.data)\n",
    "    epocas.append(epoca)\n",
    "    loss_functions.append(float(loss.data))"
   ]
  },
  {
   "cell_type": "code",
   "execution_count": 14,
   "id": "336159a8-28c0-4337-b31a-247dfdbdcf9b",
   "metadata": {
    "tags": []
   },
   "outputs": [],
   "source": [
    "with torch.no_grad():\n",
    "    y_true = normalizador_y.inverse_transform(y_treino)\n",
    "    y_pred = minha_MLP(X_treino)\n",
    "    y_pred = normalizador_y.inverse_transform(y_pred)\n",
    "\n",
    "#for yt, yp in zip(y_true, y_pred):\n",
    "    #print(yt, yp)"
   ]
  },
  {
   "cell_type": "code",
   "execution_count": 15,
   "id": "56d57856-3504-4dfb-9fd0-15fb8a833cca",
   "metadata": {},
   "outputs": [
    {
     "data": {
      "text/plain": [
       "MLP(\n",
       "  (camadas): Sequential(\n",
       "    (0): Linear(in_features=11, out_features=350, bias=True)\n",
       "    (1): ReLU()\n",
       "    (2): Linear(in_features=350, out_features=200, bias=True)\n",
       "    (3): ReLU()\n",
       "    (4): Linear(in_features=200, out_features=180, bias=True)\n",
       "    (5): ReLU()\n",
       "    (6): Linear(in_features=180, out_features=150, bias=True)\n",
       "    (7): ReLU()\n",
       "    (8): Linear(in_features=150, out_features=1, bias=True)\n",
       "  )\n",
       ")"
      ]
     },
     "execution_count": 15,
     "metadata": {},
     "output_type": "execute_result"
    }
   ],
   "source": [
    "minha_MLP.eval()"
   ]
  },
  {
   "cell_type": "code",
   "execution_count": 16,
   "id": "b99d4960-7ed6-45f2-8e81-ce1560176571",
   "metadata": {
    "tags": []
   },
   "outputs": [],
   "source": [
    "verdadeiro = []\n",
    "previsto = []\n",
    "\n",
    "with torch.no_grad():\n",
    "    y_true = normalizador_y.inverse_transform(y_teste)\n",
    "    y_pred = minha_MLP(X_teste)\n",
    "    y_pred = normalizador_y.inverse_transform(y_pred)\n",
    "\n",
    "for yt, yp in zip(y_true, y_pred):\n",
    "    verdadeiro.append(yt)\n",
    "    previsto.append(yp)"
   ]
  },
  {
   "cell_type": "code",
   "execution_count": 17,
   "id": "27376297-ae58-4e5f-816d-7406f2fe6c6d",
   "metadata": {},
   "outputs": [
    {
     "data": {
      "text/plain": [
       "tensor([0.0000, 1.0000, 0.0000, 0.0000, 0.0897, 0.1212, 0.0721, 0.0000, 0.0000,\n",
       "        0.0000, 0.0000])"
      ]
     },
     "execution_count": 17,
     "metadata": {},
     "output_type": "execute_result"
    }
   ],
   "source": [
    "X_teste[0]"
   ]
  },
  {
   "cell_type": "code",
   "execution_count": 18,
   "id": "762302c2-21b2-4ede-88fc-d86cc26c2a67",
   "metadata": {},
   "outputs": [
    {
     "name": "stdout",
     "output_type": "stream",
     "text": [
      "Loss do teste: 0.09351346354386339\n"
     ]
    }
   ],
   "source": [
    "RMSE = mean_squared_error(y_true, y_pred, squared=False)\n",
    "print(f'Loss do teste: {RMSE}')"
   ]
  },
  {
   "cell_type": "markdown",
   "id": "ec7d0fe4-d90e-454f-a39c-5ae30e447faa",
   "metadata": {},
   "source": [
    "## Algoritmo Genético"
   ]
  },
  {
   "cell_type": "code",
   "execution_count": 19,
   "id": "8ddac9d7-9ee4-4aa0-baad-e8083af61c2f",
   "metadata": {},
   "outputs": [],
   "source": [
    "# Constantes de busca\n",
    "\n",
    "TAMANHO_POP = 20 # quantidade de indivíduos\n",
    "NUM_GERACOES = 500 # número de gerações\n",
    "CHANCE_CRUZAMENTO = 0.5 # chance de ocorrer o cruzamento entre dois indivíduos\n",
    "CHANCE_MUTACAO = 0.2 # chance de ocorrer mutação em cada indivíduo durante cada geração\n",
    "\n",
    "# Constantes de problema\n",
    "QUANTIDADE_MAX_ATOMOS = 200 # quantidade de valor máximo que um gene pode assumir\n",
    "NUM_ELEMENTOS = len(FEATURES) - 3 # quantidade de genes presentes em cada indivíduo\n",
    "TAMANHO_PORO_DESEJADO = 0.5"
   ]
  },
  {
   "cell_type": "code",
   "execution_count": 20,
   "id": "08d99ab9-727c-496b-a96e-813a1094f00a",
   "metadata": {},
   "outputs": [],
   "source": [
    "# Funções Locais\n",
    "\n",
    "def cria_populacao_inicial(tamanho, numero_elementos):\n",
    "    return populacao_mof(tamanho, numero_elementos, QUANTIDADE_MAX_ATOMOS)\n",
    "\n",
    "def funcao_mutacao(individuo):\n",
    "    return mutacao_mof(individuo, QUANTIDADE_MAX_ATOMOS)\n",
    "\n",
    "def lista_para_dataframe(lista):\n",
    "    \"\"\" Uma função que recebe uma lista e retorna um dataframe, seguindo uma ordem de colunas\n",
    "    \n",
    "    Args:\n",
    "        lista: uma lista qualquer\n",
    "        \n",
    "    Return:\n",
    "        dataframe\n",
    "    \"\"\"\n",
    "    df_lista = pd.DataFrame([lista], columns=FEATURES)\n",
    "    \n",
    "    return df_lista\n",
    "\n",
    "def computa_void_fraction(individuo):\n",
    "    \"\"\" Uma função que calcula o tamanho previsto para uma MOF a partir do modelo de Redes Neurais treinado.\n",
    "    \n",
    "    Args:\n",
    "        individuo: um indivíduo válido para o problema das mofs\n",
    "        \n",
    "    Return:\n",
    "        void_fraction previsto\n",
    "    \"\"\"\n",
    "    individuo = lista_para_dataframe(individuo)\n",
    "    individuo = normalizador_x.transform(individuo)\n",
    "    individuo = torch.tensor(individuo, dtype=torch.float32)\n",
    "    with torch.no_grad():\n",
    "        y_pred = minha_MLP(individuo)\n",
    "        y_pred = normalizador_y.inverse_transform(y_pred)\n",
    "        \n",
    "    return y_pred\n",
    "\n",
    "def funcao_objetivo(individuo, tamanho_poro_desejado):\n",
    "    \"\"\" Uma função que calcula o fitness de cada indivíduo do problema das mofs a partir do modelo preditivo de redes neurais\n",
    "    \n",
    "    Args:\n",
    "        individuo: um indivíduo válido para o problema das mofs\n",
    "        \n",
    "    Return:\n",
    "        O fitness do indivíduo\n",
    "    \"\"\"\n",
    "    y_pred = computa_void_fraction(individuo)[0]\n",
    "    \n",
    "    return abs(y_pred - tamanho_poro_desejado)\n",
    "\n",
    "def funcao_objetivo_pop(populacao):\n",
    "    \"\"\" Calcula a função objetivo para todos os membros de uma população\n",
    "    \n",
    "    Args:\n",
    "        população: Lista com todos os indivíduos da população\n",
    "        \n",
    "    Return:\n",
    "        Lista contendo o fitness de cada indivíduo\n",
    "    \"\"\"\n",
    "    fitness = []\n",
    "    for individuo in populacao:\n",
    "        fobj = funcao_objetivo(individuo, TAMANHO_PORO_DESEJADO)\n",
    "        fitness.append(fobj)\n",
    "    return fitness"
   ]
  },
  {
   "cell_type": "code",
   "execution_count": 21,
   "id": "eea5f5fb-964f-416a-8bfa-5d7aebd949c2",
   "metadata": {
    "tags": []
   },
   "outputs": [
    {
     "name": "stdout",
     "output_type": "stream",
     "text": [
      "População inicial:\n",
      "Individuo  1 :  [191, 4, 2, 164, 19, 2, 120, 58, 172, 159, 149]\n",
      "Individuo  2 :  [62, 5, 12, 90, 129, 149, 80, 6, 191, 51, 194]\n",
      "Individuo  3 :  [163, 1, 9, 27, 181, 58, 180, 99, 153, 199, 120]\n",
      "Individuo  4 :  [190, 5, 9, 30, 57, 23, 23, 101, 20, 132, 153]\n",
      "Individuo  5 :  [123, 4, 4, 191, 181, 181, 56, 153, 13, 125, 32]\n",
      "Individuo  6 :  [110, 7, 8, 172, 164, 137, 158, 182, 107, 148, 139]\n",
      "Individuo  7 :  [50, 7, 10, 186, 26, 180, 122, 151, 197, 104, 36]\n",
      "Individuo  8 :  [152, 3, 1, 85, 3, 4, 5, 43, 60, 39, 62]\n",
      "Individuo  9 :  [8, 1, 4, 48, 177, 174, 101, 131, 26, 108, 100]\n",
      "Individuo  10 :  [57, 4, 7, 196, 157, 76, 156, 149, 188, 48, 77]\n",
      "Individuo  11 :  [85, 2, 6, 162, 5, 176, 171, 85, 2, 122, 47]\n",
      "Individuo  12 :  [216, 2, 6, 144, 100, 143, 52, 144, 91, 34, 144]\n",
      "Individuo  13 :  [170, 6, 9, 143, 132, 109, 192, 33, 87, 26, 24]\n",
      "Individuo  14 :  [73, 5, 11, 121, 107, 40, 199, 193, 177, 9, 192]\n",
      "Individuo  15 :  [47, 7, 7, 146, 52, 71, 184, 166, 122, 164, 56]\n",
      "Individuo  16 :  [72, 5, 6, 141, 111, 177, 155, 16, 33, 63, 47]\n",
      "Individuo  17 :  [210, 7, 8, 136, 173, 21, 183, 108, 90, 6, 145]\n",
      "Individuo  18 :  [184, 1, 4, 137, 46, 163, 73, 25, 163, 128, 89]\n",
      "Individuo  19 :  [95, 6, 12, 69, 75, 5, 129, 98, 116, 164, 134]\n",
      "Individuo  20 :  [128, 7, 9, 58, 4, 145, 95, 9, 57, 148, 40]\n",
      "Melhor poro: [-0.33895612]\n",
      "Melhor poro: [-0.18789134]\n",
      "Melhor poro: [-0.14835848]\n",
      "Melhor poro: [-0.04633418]\n",
      "Melhor poro: [-0.02741294]\n",
      "Melhor poro: [0.12110042]\n",
      "Melhor poro: [0.12382101]\n",
      "Melhor poro: [0.14992765]\n",
      "Melhor poro: [0.157046]\n",
      "Melhor poro: [0.43893671]\n",
      "Melhor poro: [0.46090501]\n",
      "Melhor poro: [0.4613009]\n",
      "Melhor poro: [0.47744826]\n",
      "Melhor poro: [0.49038419]\n",
      "Melhor poro: [0.49765357]\n",
      "Melhor poro: [0.49922582]\n",
      "Melhor poro: [0.50028438]\n",
      "Melhor poro: [0.49991557]\n",
      "\n",
      "População final:\n",
      "Individuo  1 :  [163, 1, 4, 12, 4, 160, 2, 132, 19, 89, 109] [[0.49978557]]\n",
      "Individuo  2 :  [163, 1, 4, 12, 4, 160, 2, 132, 19, 111, 109] [[0.50428043]]\n",
      "Individuo  3 :  [163, 1, 4, 12, 4, 160, 2, 132, 19, 89, 109] [[0.49978557]]\n",
      "Individuo  4 :  [163, 1, 4, 12, 8, 160, 2, 132, 19, 89, 109] [[0.50082345]]\n",
      "Individuo  5 :  [163, 1, 4, 12, 4, 160, 2, 132, 19, 89, 109] [[0.49978557]]\n",
      "Individuo  6 :  [163, 1, 4, 12, 4, 160, 2, 132, 19, 89, 109] [[0.49978557]]\n",
      "Individuo  7 :  [163, 1, 4, 12, 4, 160, 2, 132, 19, 89, 109] [[0.49978557]]\n",
      "Individuo  8 :  [163, 1, 4, 12, 4, 160, 2, 132, 19, 89, 109] [[0.49978557]]\n",
      "Individuo  9 :  [163, 1, 4, 12, 4, 160, 2, 132, 19, 89, 109] [[0.49978557]]\n",
      "Individuo  10 :  [163, 1, 4, 12, 4, 160, 2, 132, 19, 89, 109] [[0.49978557]]\n",
      "Individuo  11 :  [163, 1, 4, 12, 4, 160, 2, 132, 19, 89, 109] [[0.49978557]]\n",
      "Individuo  12 :  [163, 1, 4, 12, 4, 160, 2, 132, 19, 89, 109] [[0.49978557]]\n",
      "Individuo  13 :  [163, 1, 4, 12, 4, 160, 2, 132, 19, 89, 109] [[0.49978557]]\n",
      "Individuo  14 :  [163, 1, 4, 12, 4, 160, 2, 132, 19, 89, 153] [[0.47595447]]\n",
      "Individuo  15 :  [163, 1, 4, 12, 4, 160, 2, 132, 19, 89, 109] [[0.49978557]]\n",
      "Individuo  16 :  [163, 1, 4, 12, 4, 160, 2, 132, 19, 89, 109] [[0.49978557]]\n",
      "Individuo  17 :  [163, 1, 7, 12, 4, 160, 2, 132, 19, 89, 109] [[0.45694519]]\n",
      "Individuo  18 :  [163, 1, 4, 12, 4, 160, 2, 132, 19, 89, 109] [[0.49978557]]\n",
      "Individuo  19 :  [163, 1, 4, 12, 4, 160, 2, 132, 19, 89, 109] [[0.49978557]]\n",
      "Individuo  20 :  [163, 1, 4, 12, 4, 160, 2, 132, 19, 89, 109] [[0.49978557]]\n"
     ]
    }
   ],
   "source": [
    "populacao = cria_populacao_inicial(TAMANHO_POP, NUM_ELEMENTOS) # cria aleatoriamente uma população inicial\n",
    "hall_da_fama_individuo = []\n",
    "geracoes = []\n",
    "melhor_fitness_ja_visto = float(\"inf\")  # é assim que escrevemos infinito em python\n",
    "\n",
    "print('População inicial:') # mostra qual foi a população criada aleatoriamente\n",
    "for i, ind in enumerate(populacao):\n",
    "    print('Individuo ', i+1, ': ', ind)\n",
    "\n",
    "for geracao in range(NUM_GERACOES): # loop que começa a rodar cada geração\n",
    "    fitness = funcao_objetivo_pop(populacao) # cálculo da função objetivo de cada indivíduo da população\n",
    "    populacao = funcao_selecao(populacao, fitness) # seleção de roleta com diferentes pesos, baseados na função fitness\n",
    "    \n",
    "    pais = populacao[0::2] # definição dos indivíduos que serão pais\n",
    "    maes = populacao[1::2] # definição dos indivíduos que serão mães\n",
    "    contador = 0 # estratégia para colocar os filhos no lugar dos pais\n",
    "    for pai, mae in zip(pais, maes): # laço de repetição para pegar itens da lista de pais e mães\n",
    "        if random.random() < CHANCE_CRUZAMENTO: # aplicando a possibilidade de cruzamento\n",
    "            # vai acertar o cruzamento\n",
    "            filho1, filho2 = funcao_cruzamento(pai, mae) # \"calculando\" o filho 1 e o filho 2\n",
    "            populacao[contador] = filho1 # trocando o pai pelo filho 1\n",
    "            populacao[contador + 1] = filho2 # trocando a mãe pelo filho 2\n",
    "            \n",
    "        contador = contador + 2 # atualização do contador\n",
    "    \n",
    "    for n in range(len(populacao)): #laço de repetição para mutação\n",
    "        if random.random() <= CHANCE_MUTACAO: # chance de mutação\n",
    "            individuo = populacao[n] # esxolhe o indivíduo\n",
    "            populacao[n] = funcao_mutacao(individuo) # muta o indivíduo\n",
    "            \n",
    "    #hall da fama       \n",
    "    fitness = funcao_objetivo_pop(populacao)\n",
    "    menor_fitness = min(fitness)\n",
    "    posicao = fitness.index(menor_fitness)\n",
    "    individuo = populacao[posicao].copy()\n",
    "    tamanho_poro = computa_void_fraction(individuo)[0]\n",
    "    if menor_fitness < melhor_fitness_ja_visto:\n",
    "        melhor_fitness_ja_visto = menor_fitness\n",
    "        melhor_individuo_ja_visto = individuo\n",
    "        melhor_tamanho_poro_ja_visto = tamanho_poro\n",
    "        print(f\"Melhor poro: {tamanho_poro}\")\n",
    "        \n",
    "    hall_da_fama_individuo.append(melhor_tamanho_poro_ja_visto)\n",
    "    geracoes.append(geracao)\n",
    "    \n",
    "print()\n",
    "print('População final:') # mostra qual foi a população final selecionada geneticamente\n",
    "for i, ind in enumerate(populacao):\n",
    "    print('Individuo ', i+1, ': ', ind, computa_void_fraction(ind))"
   ]
  },
  {
   "cell_type": "code",
   "execution_count": 22,
   "id": "48edec48-5734-4e12-957c-db26ed7e6cf5",
   "metadata": {},
   "outputs": [
    {
     "data": {
      "image/png": "[encoded data removed]",
      "text/plain": [
       "<Figure size 720x720 with 2 Axes>"
      ]
     },
     "metadata": {},
     "output_type": "display_data"
    }
   ],
   "source": [
    "import matplotlib.pyplot as plt\n",
    "\n",
    "# Create some sample data\n",
    "x = geracoes\n",
    "y1 = loss_functions\n",
    "y2 = hall_da_fama_individuo\n",
    "y3 = [TAMANHO_PORO_DESEJADO]*len(x)\n",
    "\n",
    "# Create the first set of axes on the left side\n",
    "fig, ax1 = plt.subplots(figsize = (10, 10))\n",
    "ax1.plot(x, y1, 'black', label = 'Rede Neural')\n",
    "ax1.set_xlabel('Épocas | Gerações')\n",
    "ax1.set_ylabel('Função de perda', color='black')\n",
    "ax1.tick_params('y', colors='black')\n",
    "\n",
    "# Create the second set of axes on the right side\n",
    "ax2 = ax1.twinx()\n",
    "ax2.plot(x, y2, '#C670A3', label = 'Algoritmo Genético')\n",
    "ax2.plot(x, y3, 'gray', linestyle='dashed', label = 'Porosidade desejada')\n",
    "ax2.set_ylabel('Porosidade', color='#C670A3')\n",
    "ax2.tick_params('y', colors='#C670A3')\n",
    "plt.ylim(min(y2), 1 - min(y2))\n",
    "\n",
    "# Combine the legends from both axes\n",
    "lines, labels = ax1.get_legend_handles_labels()\n",
    "lines2, labels2 = ax2.get_legend_handles_labels()\n",
    "ax1.legend(lines + lines2, labels + labels2)\n",
    "\n",
    "plt.title('Perfomance dos Modelos')\n",
    "\n",
    "plt.savefig('Modelos MOFs simplificados.png', dpi = 300)\n",
    "plt.show()"
   ]
  },
  {
   "cell_type": "code",
   "execution_count": 24,
   "id": "629d051a-4120-4683-8c72-e199065887b0",
   "metadata": {},
   "outputs": [
    {
     "data": {
      "image/png": "[encoded data removed]",
      "text/plain": [
       "<Figure size 1080x720 with 1 Axes>"
      ]
     },
     "metadata": {
      "needs_background": "light"
     },
     "output_type": "display_data"
    }
   ],
   "source": [
    "fig = plt.figure(figsize = (15, 10))\n",
    "\n",
    "identidade = np.linspace(0, 1, 100)\n",
    "\n",
    "plt.scatter(previsto, verdadeiro, c='#C670A3')\n",
    "\n",
    "plt.plot(identidade, identidade, c = 'black')\n",
    "plt.xlabel('Porosidade prevista')\n",
    "plt.ylabel('Porosidade verdadeira')\n",
    "\n",
    "plt.title('Eficiência da Rede Neural')\n",
    "\n",
    "plt.savefig('Eficácia da Rede Neural.png', dpi = 300)\n",
    "\n",
    "plt.show()"
   ]
  }
 ],
 "metadata": {
  "kernelspec": {
   "display_name": "ilumpy",
   "language": "python",
   "name": "ilumpy"
  },
  "language_info": {
   "codemirror_mode": {
    "name": "ipython",
    "version": 3
   },
   "file_extension": ".py",
   "mimetype": "text/x-python",
   "name": "python",
   "nbconvert_exporter": "python",
   "pygments_lexer": "ipython3",
   "version": "3.9.7"
  }
 },
 "nbformat": 4,
 "nbformat_minor": 5
}
