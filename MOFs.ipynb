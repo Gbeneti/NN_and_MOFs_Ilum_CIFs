{
 "cells": [
  {
   "cell_type": "code",
   "execution_count": 1,
   "id": "d1e51ef1-a041-417c-9171-e2c92fdb5ade",
   "metadata": {},
   "outputs": [],
   "source": [
    "import requests\n",
    "import pandas as pd\n",
    "from funcoes import *"
   ]
  },
  {
   "cell_type": "code",
   "execution_count": null,
   "id": "f0b90ea6-68b3-44a9-9171-7eb03d8cd055",
   "metadata": {},
   "outputs": [],
   "source": [
    "r = requests.get(\"https://mof.tech.northwestern.edu/mofs.json\")\n",
    "\n",
    "print(r)"
   ]
  },
  {
   "cell_type": "code",
   "execution_count": null,
   "id": "8de8d6d9-e222-431b-8e89-87748ce16242",
   "metadata": {},
   "outputs": [],
   "source": [
    "data = r.json()['results']"
   ]
  },
  {
   "cell_type": "code",
   "execution_count": null,
   "id": "a9b4a1c9-dcd4-4a6f-bbf9-0d341a7822f8",
   "metadata": {},
   "outputs": [],
   "source": [
    "df = pd.DataFrame.from_dict(data)"
   ]
  },
  {
   "cell_type": "code",
   "execution_count": null,
   "id": "b41cea3c-a771-4f95-a923-b1502188a94d",
   "metadata": {},
   "outputs": [],
   "source": [
    "df = funcao_extrair_features_isotherms(df)"
   ]
  },
  {
   "cell_type": "code",
   "execution_count": null,
   "id": "812f12f6-45b5-42b7-80dd-226bd6eb18af",
   "metadata": {},
   "outputs": [],
   "source": [
    "def importar_dados(dataframe):\n",
    "    'importar os dados provenientes do site das MOFs'\n",
    "    dados_hmof = pd.read_excel(dataframe)\n",
    "    return dados_hmof"
   ]
  },
  {
   "cell_type": "code",
   "execution_count": null,
   "id": "9eba42b8-6f0f-408b-bf1c-f7aad2783515",
   "metadata": {},
   "outputs": [],
   "source": [
    "dataframe = ('Pasta1.xlsx')\n",
    "df_import = importar_dados(dataframe)"
   ]
  },
  {
   "cell_type": "markdown",
   "id": "81f961ec-dad6-45d8-86a0-0c5af6aca1d2",
   "metadata": {},
   "source": [
    "## Importações\n",
    "\n"
   ]
  },
  {
   "cell_type": "code",
   "execution_count": null,
   "id": "512aead1-ae53-480f-9d5a-f0f4911477c4",
   "metadata": {},
   "outputs": [],
   "source": [
    "import torch\n",
    "import torch.nn as nn\n",
    "import torch.optim as optim\n",
    "\n",
    "import seaborn as sns\n",
    "\n",
    "from sklearn.model_selection import train_test_split\n",
    "from sklearn.preprocessing import MinMaxScaler\n",
    "from sklearn.metrics import mean_squared_error"
   ]
  },
  {
   "cell_type": "markdown",
   "id": "b03eff68-18c4-46e6-9971-56926c69f3ec",
   "metadata": {},
   "source": [
    "## Código e discussão\n",
    "\n"
   ]
  },
  {
   "cell_type": "markdown",
   "id": "f27f7636-a2b8-442f-9c46-3c56b83565e4",
   "metadata": {},
   "source": [
    "### Divisão treino-teste"
   ]
  },
  {
   "cell_type": "code",
   "execution_count": null,
   "id": "e21f6434-8877-4871-8744-9563110e9ac9",
   "metadata": {},
   "outputs": [],
   "source": [
    "TAMANHO_TESTE = 0.1\n",
    "SEMENTE_ALEATORIA = 61455\n",
    "FEATURES = ['lcd', 'pld', 'void_fraction', 'surface_area_m2g', 'surface_area_m2cm3', 'CO2_0.01', 'CO2_0.1', 'CO2_2.5', 'CO2_0.05', 'CO2_0.5',\n",
    "            'N2_0.09', 'N2_0.9', 'CH4_2.5', 'CH4_4.5', 'CH4_0.05', 'CH4_0.5', 'CH4_0.9', 'CH4_35', 'H2_2', 'H2_100']\n",
    "TARGET = ['Xe_1']\n",
    "\n",
    "indices = df.index\n",
    "indices_treino, indices_teste = train_test_split(\n",
    "    indices, test_size=TAMANHO_TESTE, random_state=SEMENTE_ALEATORIA\n",
    ")\n",
    "\n",
    "df_treino = df.loc[indices_treino]\n",
    "df_teste = df.loc[indices_teste]\n",
    "\n",
    "X_treino = df_treino.reindex(FEATURES, axis=1)\n",
    "y_treino = df_treino.reindex(TARGET, axis=1)\n",
    "X_teste = df_teste.reindex(FEATURES, axis=1)\n",
    "y_teste = df_teste.reindex(TARGET, axis=1)"
   ]
  },
  {
   "cell_type": "code",
   "execution_count": null,
   "id": "eace9865-c6ee-4e4d-87e3-ffcb329af705",
   "metadata": {},
   "outputs": [],
   "source": [
    "normalizador_x = MinMaxScaler()\n",
    "normalizador_y = MinMaxScaler()\n",
    "\n",
    "normalizador_x.fit(X_treino)\n",
    "normalizador_y.fit(y_treino)\n",
    "\n",
    "X_treino = normalizador_x.transform(X_treino)\n",
    "y_treino = normalizador_y.transform(y_treino)\n",
    "X_teste = normalizador_x.transform(X_teste)\n",
    "y_teste = normalizador_y.transform(y_teste)"
   ]
  },
  {
   "cell_type": "code",
   "execution_count": null,
   "id": "cf37298b-e8c4-4be9-957a-67dd46ed20d2",
   "metadata": {},
   "outputs": [],
   "source": [
    "X_treino = torch.tensor(X_treino, dtype=torch.float32)\n",
    "y_treino = torch.tensor(y_treino, dtype=torch.float32)\n",
    "X_teste = torch.tensor(X_teste, dtype=torch.float32)\n",
    "y_teste = torch.tensor(y_teste, dtype=torch.float32)"
   ]
  },
  {
   "cell_type": "code",
   "execution_count": null,
   "id": "76fa858d-26c3-4eef-b9f5-851a27005d85",
   "metadata": {
    "tags": []
   },
   "outputs": [],
   "source": [
    "print(X_treino)\n",
    "print()\n",
    "print(y_treino)"
   ]
  },
  {
   "cell_type": "code",
   "execution_count": null,
   "id": "3d9b324b-0be3-49ac-a1ac-8f253878a796",
   "metadata": {},
   "outputs": [],
   "source": [
    "class MLP(nn.Module):\n",
    "    def __init__(\n",
    "        self, num_dados_entrada, neuronios_c1, neuronios_c2, num_targets\n",
    "    ):\n",
    "        # Temos que inicializar a classe mãe\n",
    "        super().__init__()\n",
    "\n",
    "        # Definindo as camadas da rede\n",
    "        self.camadas = nn.Sequential(\n",
    "                    nn.Linear(num_dados_entrada, neuronios_c1),\n",
    "                    nn.ReLU(),\n",
    "                    nn.Linear(neuronios_c1, neuronios_c2),\n",
    "                    nn.ReLU(),\n",
    "                    nn.Linear(neuronios_c2, num_targets),\n",
    "                )\n",
    "\n",
    "    def forward(self, x):\n",
    "        \"\"\"Esse é o método que executa a rede do pytorch.\"\"\"\n",
    "        x = self.camadas(x)\n",
    "        return x"
   ]
  },
  {
   "cell_type": "code",
   "execution_count": null,
   "id": "9e74047e-e419-41ed-9ec0-607c8c97fbfd",
   "metadata": {},
   "outputs": [],
   "source": [
    "NUM_DADOS_DE_ENTRADA = X_treino.shape[1]\n",
    "NUM_DADOS_DE_SAIDA = y_treino.shape[1]\n",
    "NEURONIOS_C1 = 50\n",
    "NEURONIOS_C2 = 20\n",
    "\n",
    "minha_MLP = MLP(NUM_DADOS_DE_ENTRADA, NEURONIOS_C1, NEURONIOS_C2, NUM_DADOS_DE_SAIDA)"
   ]
  },
  {
   "cell_type": "code",
   "execution_count": null,
   "id": "6356ffb3-6907-444e-bfd6-0ec58f922bc3",
   "metadata": {
    "tags": []
   },
   "outputs": [],
   "source": [
    "for p in minha_MLP.parameters():\n",
    "    print(p)"
   ]
  },
  {
   "cell_type": "code",
   "execution_count": null,
   "id": "799800d0-feec-4116-81eb-0b6923c62abc",
   "metadata": {
    "tags": []
   },
   "outputs": [],
   "source": [
    "y_prev = minha_MLP(X_treino)\n",
    "y_prev"
   ]
  },
  {
   "cell_type": "code",
   "execution_count": null,
   "id": "24efe5fc-6006-43bf-a7e5-d6deaa863984",
   "metadata": {},
   "outputs": [],
   "source": [
    "TAXA_DE_APRENDIZADO = 0.001\n",
    "\n",
    "# função perda será o erro quadrático médio\n",
    "fn_perda = nn.MSELoss()\n",
    "\n",
    "# otimizador será o Adam, um tipo de descida do gradiente\n",
    "otimizador = optim.Adam(minha_MLP.parameters(), lr=TAXA_DE_APRENDIZADO)"
   ]
  },
  {
   "cell_type": "code",
   "execution_count": null,
   "id": "81d36afa-d12f-4b9f-ae77-7e5a1c517f80",
   "metadata": {},
   "outputs": [],
   "source": [
    "minha_MLP.train()"
   ]
  },
  {
   "cell_type": "code",
   "execution_count": null,
   "id": "e684d72d-a02f-4314-91ea-d96f9f97c492",
   "metadata": {},
   "outputs": [],
   "source": [
    "NUM_EPOCAS = 1000\n",
    "\n",
    "y_true = y_treino\n",
    "\n",
    "for epoca in range(NUM_EPOCAS):\n",
    "    # forward pass\n",
    "    y_pred = minha_MLP(X_treino)\n",
    "\n",
    "    # zero grad\n",
    "    otimizador.zero_grad()\n",
    "\n",
    "    # loss\n",
    "    loss = fn_perda(y_pred, y_true)\n",
    "\n",
    "    # backpropagation\n",
    "    loss.backward()\n",
    "\n",
    "    # atualiza parâmetros\n",
    "    otimizador.step()\n",
    "\n",
    "    # mostra resultado\n",
    "    print(epoca, loss.data)"
   ]
  },
  {
   "cell_type": "code",
   "execution_count": null,
   "id": "93f78047-c42b-45d7-b828-cc048e675eb4",
   "metadata": {
    "tags": []
   },
   "outputs": [],
   "source": [
    "with torch.no_grad():\n",
    "    y_true = normalizador_y.inverse_transform(y_treino)\n",
    "    y_pred = minha_MLP(X_treino)\n",
    "    y_pred = normalizador_y.inverse_transform(y_pred)\n",
    "\n",
    "for yt, yp in zip(y_true, y_pred):\n",
    "    print(yt, yp)"
   ]
  },
  {
   "cell_type": "code",
   "execution_count": null,
   "id": "6ac31c88-a5d1-44f4-8460-758e0b49285a",
   "metadata": {},
   "outputs": [],
   "source": [
    "minha_MLP.eval()"
   ]
  },
  {
   "cell_type": "code",
   "execution_count": null,
   "id": "b005ff8b-6320-48fe-a710-ecd6568f047c",
   "metadata": {},
   "outputs": [],
   "source": [
    "with torch.no_grad():\n",
    "    y_true = normalizador_y.inverse_transform(y_teste)\n",
    "    y_pred = minha_MLP(X_teste)\n",
    "    y_pred = normalizador_y.inverse_transform(y_pred)\n",
    "\n",
    "for yt, yp in zip(y_true, y_pred):\n",
    "    print(yt, yp)"
   ]
  },
  {
   "cell_type": "code",
   "execution_count": null,
   "id": "13382e2b-00bf-4a17-9b47-ee0acf1adfb7",
   "metadata": {},
   "outputs": [],
   "source": [
    "RMSE = mean_squared_error(y_true, y_pred, squared=False)\n",
    "print(f'Loss do teste: {RMSE}')"
   ]
  }
 ],
 "metadata": {
  "kernelspec": {
   "display_name": "ilumpy",
   "language": "python",
   "name": "ilumpy"
  },
  "language_info": {
   "codemirror_mode": {
    "name": "ipython",
    "version": 3
   },
   "file_extension": ".py",
   "mimetype": "text/x-python",
   "name": "python",
   "nbconvert_exporter": "python",
   "pygments_lexer": "ipython3",
   "version": "3.9.7"
  }
 },
 "nbformat": 4,
 "nbformat_minor": 5
}
