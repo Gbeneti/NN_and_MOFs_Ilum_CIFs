{
 "cells": [
  {
   "cell_type": "markdown",
   "id": "0346966e-41db-45b9-889d-b8f844ff68ce",
   "metadata": {},
   "source": [
    "## Importações"
   ]
  },
  {
   "cell_type": "code",
   "execution_count": 1,
   "id": "d1e51ef1-a041-417c-9171-e2c92fdb5ade",
   "metadata": {},
   "outputs": [],
   "source": [
    "import pandas as pd\n",
    "from funcoes import *\n",
    "import pickle"
   ]
  },
  {
   "cell_type": "code",
   "execution_count": 2,
   "id": "5de55f47-8a42-46df-bca8-9cf8c145216b",
   "metadata": {},
   "outputs": [],
   "source": [
    "from mofdb_client import fetch\n",
    "# Fetch all mofs with void fraction >= 0.5 and <= 0.99\n",
    "# Convert all isotherm loading units to mmol/g and all pressures to atmospheres\n",
    "\n",
    "# Create a DataFrame\n",
    "df = pd.DataFrame()\n",
    "\n",
    "TAMANHO_DATAFRAME = 1000\n",
    "\n",
    "t = 0\n",
    "for mof in fetch(vf_min=0, vf_max=1, loading_unit=\"mmol/g\", pressure_unit=\"atm\"):\n",
    "    new_row = {'mof': mof.name, 'cif': mof.cif, 'void fraction': mof.void_fraction}\n",
    "    # Append the new row to the DataFrame\n",
    "    df = df.append(new_row, ignore_index=True)\n",
    "    t += 1\n",
    "    if t >= TAMANHO_DATAFRAME:\n",
    "        break"
   ]
  },
  {
   "cell_type": "code",
   "execution_count": 3,
   "id": "8acf3d74-53a9-45a0-9dcb-1286385ebb1b",
   "metadata": {},
   "outputs": [
    {
     "data": {
      "text/html": [
       "<div>\n",
       "<style scoped>\n",
       "    .dataframe tbody tr th:only-of-type {\n",
       "        vertical-align: middle;\n",
       "    }\n",
       "\n",
       "    .dataframe tbody tr th {\n",
       "        vertical-align: top;\n",
       "    }\n",
       "\n",
       "    .dataframe thead th {\n",
       "        text-align: right;\n",
       "    }\n",
       "</style>\n",
       "<table border=\"1\" class=\"dataframe\">\n",
       "  <thead>\n",
       "    <tr style=\"text-align: right;\">\n",
       "      <th></th>\n",
       "      <th>mof</th>\n",
       "      <th>cif</th>\n",
       "      <th>void fraction</th>\n",
       "    </tr>\n",
       "  </thead>\n",
       "  <tbody>\n",
       "    <tr>\n",
       "      <th>0</th>\n",
       "      <td>hMOF-6</td>\n",
       "      <td>data_functionalizedCrystal\\n_audit_creation_me...</td>\n",
       "      <td>0.754903</td>\n",
       "    </tr>\n",
       "    <tr>\n",
       "      <th>1</th>\n",
       "      <td>hMOF-0</td>\n",
       "      <td>data_functionalizedCrystal\\n_audit_creation_me...</td>\n",
       "      <td>0.795539</td>\n",
       "    </tr>\n",
       "    <tr>\n",
       "      <th>2</th>\n",
       "      <td>hMOF-7</td>\n",
       "      <td>data_functionalizedCrystal\\n_audit_creation_me...</td>\n",
       "      <td>0.327134</td>\n",
       "    </tr>\n",
       "    <tr>\n",
       "      <th>3</th>\n",
       "      <td>hMOF-5</td>\n",
       "      <td>data_functionalizedCrystal\\n_audit_creation_me...</td>\n",
       "      <td>0.169003</td>\n",
       "    </tr>\n",
       "    <tr>\n",
       "      <th>4</th>\n",
       "      <td>hMOF-3</td>\n",
       "      <td>data_functionalizedCrystal\\n_audit_creation_me...</td>\n",
       "      <td>0.755062</td>\n",
       "    </tr>\n",
       "    <tr>\n",
       "      <th>...</th>\n",
       "      <td>...</td>\n",
       "      <td>...</td>\n",
       "      <td>...</td>\n",
       "    </tr>\n",
       "    <tr>\n",
       "      <th>995</th>\n",
       "      <td>hMOF-993</td>\n",
       "      <td>data_functionalizedCrystal\\n_audit_creation_me...</td>\n",
       "      <td>0.754829</td>\n",
       "    </tr>\n",
       "    <tr>\n",
       "      <th>996</th>\n",
       "      <td>hMOF-996</td>\n",
       "      <td>data_functionalizedCrystal\\n_audit_creation_me...</td>\n",
       "      <td>0.347210</td>\n",
       "    </tr>\n",
       "    <tr>\n",
       "      <th>997</th>\n",
       "      <td>hMOF-997</td>\n",
       "      <td>data_functionalizedCrystal\\n_audit_creation_me...</td>\n",
       "      <td>0.775003</td>\n",
       "    </tr>\n",
       "    <tr>\n",
       "      <th>998</th>\n",
       "      <td>hMOF-999</td>\n",
       "      <td>data_functionalizedCrystal\\n_audit_creation_me...</td>\n",
       "      <td>0.753542</td>\n",
       "    </tr>\n",
       "    <tr>\n",
       "      <th>999</th>\n",
       "      <td>hMOF-998</td>\n",
       "      <td>data_functionalizedCrystal\\n_audit_creation_me...</td>\n",
       "      <td>0.367712</td>\n",
       "    </tr>\n",
       "  </tbody>\n",
       "</table>\n",
       "<p>1000 rows × 3 columns</p>\n",
       "</div>"
      ],
      "text/plain": [
       "          mof                                                cif  \\\n",
       "0      hMOF-6  data_functionalizedCrystal\\n_audit_creation_me...   \n",
       "1      hMOF-0  data_functionalizedCrystal\\n_audit_creation_me...   \n",
       "2      hMOF-7  data_functionalizedCrystal\\n_audit_creation_me...   \n",
       "3      hMOF-5  data_functionalizedCrystal\\n_audit_creation_me...   \n",
       "4      hMOF-3  data_functionalizedCrystal\\n_audit_creation_me...   \n",
       "..        ...                                                ...   \n",
       "995  hMOF-993  data_functionalizedCrystal\\n_audit_creation_me...   \n",
       "996  hMOF-996  data_functionalizedCrystal\\n_audit_creation_me...   \n",
       "997  hMOF-997  data_functionalizedCrystal\\n_audit_creation_me...   \n",
       "998  hMOF-999  data_functionalizedCrystal\\n_audit_creation_me...   \n",
       "999  hMOF-998  data_functionalizedCrystal\\n_audit_creation_me...   \n",
       "\n",
       "     void fraction  \n",
       "0         0.754903  \n",
       "1         0.795539  \n",
       "2         0.327134  \n",
       "3         0.169003  \n",
       "4         0.755062  \n",
       "..             ...  \n",
       "995       0.754829  \n",
       "996       0.347210  \n",
       "997       0.775003  \n",
       "998       0.753542  \n",
       "999       0.367712  \n",
       "\n",
       "[1000 rows x 3 columns]"
      ]
     },
     "execution_count": 3,
     "metadata": {},
     "output_type": "execute_result"
    }
   ],
   "source": [
    "df"
   ]
  },
  {
   "cell_type": "code",
   "execution_count": 4,
   "id": "fef93256-8c89-4a7d-801e-cda8137c13ed",
   "metadata": {},
   "outputs": [
    {
     "name": "stderr",
     "output_type": "stream",
     "text": [
      "c:\\venv\\ilumpy\\lib\\site-packages\\pymatgen\\io\\cif.py:1134: UserWarning: Issues encountered while parsing CIF: Some fractional coordinates rounded to ideal values to avoid issues with finite precision.\n",
      "  warnings.warn(\"Issues encountered while parsing CIF: \" + \"\\n\".join(self.warnings))\n"
     ]
    },
    {
     "data": {
      "application/vnd.jupyter.widget-view+json": {
       "model_id": "612d1e6ceed04c3691cd45e8b009afe6",
       "version_major": 2,
       "version_minor": 0
      },
      "text/plain": [
       "GlobalSymmetryFeatures:   0%|          | 0/1000 [00:00<?, ?it/s]"
      ]
     },
     "metadata": {},
     "output_type": "display_data"
    },
    {
     "data": {
      "application/vnd.jupyter.widget-view+json": {
       "model_id": "169b652122ed426e9071bcdad718e48a",
       "version_major": 2,
       "version_minor": 0
      },
      "text/plain": [
       "ElementProperty:   0%|          | 0/1000 [00:00<?, ?it/s]"
      ]
     },
     "metadata": {},
     "output_type": "display_data"
    }
   ],
   "source": [
    "df = extrair_cif(df, minimo = 5)"
   ]
  },
  {
   "cell_type": "code",
   "execution_count": 5,
   "id": "4cb04ac1-fd0c-49fb-8387-11e0d4eb12cc",
   "metadata": {},
   "outputs": [
    {
     "data": {
      "text/plain": [
       "Index(['mof', 'void fraction', 'spacegroup_num', 'crystal_system',\n",
       "       'crystal_system_int', 'is_centrosymmetric', 'n_symmetry_ops', 'Zn', 'H',\n",
       "       'C', 'O', 'F', 'Cl', 'Br', 'N'],\n",
       "      dtype='object')"
      ]
     },
     "execution_count": 5,
     "metadata": {},
     "output_type": "execute_result"
    }
   ],
   "source": [
    "df.keys()"
   ]
  },
  {
   "cell_type": "markdown",
   "id": "1f06aa11-8573-4aac-a87e-2ac855f6b632",
   "metadata": {},
   "source": [
    "## Tratamento de dados"
   ]
  },
  {
   "cell_type": "code",
   "execution_count": 6,
   "id": "acaf9725-88eb-4234-bc4c-c2dbcf350866",
   "metadata": {},
   "outputs": [],
   "source": [
    "with open('dataframe.pkl', 'wb') as f:\n",
    "    pickle.dump(df, f)"
   ]
  }
 ],
 "metadata": {
  "kernelspec": {
   "display_name": "ilumpy",
   "language": "python",
   "name": "ilumpy"
  },
  "language_info": {
   "codemirror_mode": {
    "name": "ipython",
    "version": 3
   },
   "file_extension": ".py",
   "mimetype": "text/x-python",
   "name": "python",
   "nbconvert_exporter": "python",
   "pygments_lexer": "ipython3",
   "version": "3.9.7"
  }
 },
 "nbformat": 4,
 "nbformat_minor": 5
}
