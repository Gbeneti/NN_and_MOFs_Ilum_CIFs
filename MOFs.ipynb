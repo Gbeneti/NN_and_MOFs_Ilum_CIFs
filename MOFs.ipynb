{
 "cells": [
  {
   "cell_type": "markdown",
   "id": "0346966e-41db-45b9-889d-b8f844ff68ce",
   "metadata": {},
   "source": [
    "## Importações"
   ]
  },
  {
   "cell_type": "code",
   "execution_count": 1,
   "id": "d1e51ef1-a041-417c-9171-e2c92fdb5ade",
   "metadata": {},
   "outputs": [],
   "source": [
    "import requests\n",
    "import pandas as pd\n",
    "from funcoes import *\n",
    "import pickle"
   ]
  },
  {
   "cell_type": "code",
   "execution_count": 2,
   "id": "f0b90ea6-68b3-44a9-9171-7eb03d8cd055",
   "metadata": {},
   "outputs": [
    {
     "name": "stdout",
     "output_type": "stream",
     "text": [
      "<Response [200]>\n"
     ]
    }
   ],
   "source": [
    "r = requests.get(\"https://mof.tech.northwestern.edu/mofs.json\")\n",
    "\n",
    "print(r)"
   ]
  },
  {
   "cell_type": "code",
   "execution_count": 3,
   "id": "8de8d6d9-e222-431b-8e89-87748ce16242",
   "metadata": {},
   "outputs": [],
   "source": [
    "data = r.json()['results']"
   ]
  },
  {
   "cell_type": "code",
   "execution_count": 4,
   "id": "a9b4a1c9-dcd4-4a6f-bbf9-0d341a7822f8",
   "metadata": {},
   "outputs": [],
   "source": [
    "df = pd.DataFrame.from_dict(data)"
   ]
  },
  {
   "cell_type": "markdown",
   "id": "1f06aa11-8573-4aac-a87e-2ac855f6b632",
   "metadata": {},
   "source": [
    "## Tratamento de dados"
   ]
  },
  {
   "cell_type": "code",
   "execution_count": 5,
   "id": "b41cea3c-a771-4f95-a923-b1502188a94d",
   "metadata": {},
   "outputs": [],
   "source": [
    "df = funcao_extrair_features_isotherms(df)"
   ]
  },
  {
   "cell_type": "code",
   "execution_count": 6,
   "id": "2f53c9d0-d228-4d86-b735-4dbc79980bfb",
   "metadata": {},
   "outputs": [
    {
     "data": {
      "application/vnd.jupyter.widget-view+json": {
       "model_id": "373bd92a1f304fcaaa49f04e8e7a87a4",
       "version_major": 2,
       "version_minor": 0
      },
      "text/plain": [
       "GlobalSymmetryFeatures:   0%|          | 0/30 [00:00<?, ?it/s]"
      ]
     },
     "metadata": {},
     "output_type": "display_data"
    },
    {
     "data": {
      "application/vnd.jupyter.widget-view+json": {
       "model_id": "bef7c3a18d254ecd894a3f7bc7e47790",
       "version_major": 2,
       "version_minor": 0
      },
      "text/plain": [
       "ElementProperty:   0%|          | 0/30 [00:00<?, ?it/s]"
      ]
     },
     "metadata": {},
     "output_type": "display_data"
    }
   ],
   "source": [
    "df_mof = df.iloc[100:130,:]\n",
    "df_mof = extrair_cif(df_mof,minimo=3)"
   ]
  },
  {
   "cell_type": "code",
   "execution_count": 7,
   "id": "acaf9725-88eb-4234-bc4c-c2dbcf350866",
   "metadata": {},
   "outputs": [],
   "source": [
    "# Assuming your dataframe is named df\n",
    "with open('dataframe.pkl', 'wb') as f:\n",
    "    pickle.dump(df, f)"
   ]
  },
  {
   "cell_type": "code",
   "execution_count": null,
   "id": "6d45bb26-87ed-4ed8-8c9d-e938aec588ee",
   "metadata": {},
   "outputs": [],
   "source": [
    "import torch\n",
    "import torch.nn as nn\n",
    "import torch.optim as optim\n",
    "\n",
    "import seaborn as sns\n",
    "\n",
    "from sklearn.model_selection import train_test_split\n",
    "from sklearn.preprocessing import MinMaxScaler\n",
    "from sklearn.metrics import mean_squared_error\n",
    "\n",
    "import pickle"
   ]
  }
 ],
 "metadata": {
  "kernelspec": {
   "display_name": "ilumpy",
   "language": "python",
   "name": "ilumpy"
  },
  "language_info": {
   "codemirror_mode": {
    "name": "ipython",
    "version": 3
   },
   "file_extension": ".py",
   "mimetype": "text/x-python",
   "name": "python",
   "nbconvert_exporter": "python",
   "pygments_lexer": "ipython3",
   "version": "3.9.7"
  }
 },
 "nbformat": 4,
 "nbformat_minor": 5
}
